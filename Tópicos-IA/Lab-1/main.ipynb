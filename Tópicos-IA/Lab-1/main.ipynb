{
 "cells": [
  {
   "cell_type": "code",
   "execution_count": 1,
   "metadata": {},
   "outputs": [
    {
     "name": "stdout",
     "output_type": "stream",
     "text": [
      "Collecting scikit-learn\n",
      "  Using cached scikit_learn-0.24.2-cp36-cp36m-manylinux2010_x86_64.whl (22.2 MB)\n",
      "Collecting matplotlib\n",
      "  Using cached matplotlib-3.3.4-cp36-cp36m-manylinux1_x86_64.whl (11.5 MB)\n",
      "Collecting seaborn\n",
      "  Using cached seaborn-0.11.2-py3-none-any.whl (292 kB)\n",
      "Collecting joblib>=0.11\n",
      "  Using cached joblib-1.1.1-py2.py3-none-any.whl (309 kB)\n",
      "Collecting threadpoolctl>=2.0.0\n",
      "  Using cached threadpoolctl-3.1.0-py3-none-any.whl (14 kB)\n",
      "Collecting scipy>=0.19.1\n",
      "  Using cached scipy-1.5.4-cp36-cp36m-manylinux1_x86_64.whl (25.9 MB)\n",
      "Collecting numpy>=1.13.3\n",
      "  Using cached numpy-1.19.5-cp36-cp36m-manylinux2010_x86_64.whl (14.8 MB)\n",
      "Requirement already satisfied: python-dateutil>=2.1 in /home/lmoroco/Documentos/5to/TIA/notebook/venv/lib/python3.6/site-packages (from matplotlib) (2.8.2)\n",
      "Collecting pillow>=6.2.0\n",
      "  Using cached Pillow-8.4.0-cp36-cp36m-manylinux_2_17_x86_64.manylinux2014_x86_64.whl (3.1 MB)\n",
      "Collecting kiwisolver>=1.0.1\n",
      "  Using cached kiwisolver-1.3.1-cp36-cp36m-manylinux1_x86_64.whl (1.1 MB)\n",
      "Collecting cycler>=0.10\n",
      "  Using cached cycler-0.11.0-py3-none-any.whl (6.4 kB)\n",
      "Collecting pyparsing!=2.0.4,!=2.1.2,!=2.1.6,>=2.0.3\n",
      "  Using cached pyparsing-3.0.9-py3-none-any.whl (98 kB)\n",
      "Collecting pandas>=0.23\n",
      "  Using cached pandas-1.1.5-cp36-cp36m-manylinux1_x86_64.whl (9.5 MB)\n",
      "Collecting pytz>=2017.2\n",
      "  Using cached pytz-2023.3-py2.py3-none-any.whl (502 kB)\n",
      "Requirement already satisfied: six>=1.5 in /home/lmoroco/Documentos/5to/TIA/notebook/venv/lib/python3.6/site-packages (from python-dateutil>=2.1->matplotlib) (1.16.0)\n",
      "Installing collected packages: pytz, pyparsing, pillow, numpy, kiwisolver, cycler, threadpoolctl, scipy, pandas, matplotlib, joblib, seaborn, scikit-learn\n",
      "Successfully installed cycler-0.11.0 joblib-1.1.1 kiwisolver-1.3.1 matplotlib-3.3.4 numpy-1.19.5 pandas-1.1.5 pillow-8.4.0 pyparsing-3.0.9 pytz-2023.3 scikit-learn-0.24.2 scipy-1.5.4 seaborn-0.11.2 threadpoolctl-3.1.0\n"
     ]
    }
   ],
   "source": [
    "!pip3 install scikit-learn matplotlib seaborn"
   ]
  },
  {
   "cell_type": "code",
   "execution_count": 2,
   "metadata": {},
   "outputs": [],
   "source": [
    "import matplotlib.pyplot as plt\n",
    "\n",
    "from sklearn import tree\n",
    "from sklearn.neural_network import MLPClassifier\n",
    "from sklearn import datasets, svm, metrics\n",
    "from sklearn.model_selection import train_test_split"
   ]
  },
  {
   "cell_type": "code",
   "execution_count": 3,
   "metadata": {},
   "outputs": [],
   "source": [
    "digits = datasets.load_digits()"
   ]
  },
  {
   "attachments": {},
   "cell_type": "markdown",
   "metadata": {},
   "source": [
    "# 1.  Explore y describa que información contiene cada uno de los items del conjunto de datos y el tipo de dato que almacenan?"
   ]
  },
  {
   "attachments": {},
   "cell_type": "markdown",
   "metadata": {},
   "source": [
    "Es un dataset orientado a la clasificación de imágenes, similar a la poular MNIST de dígitos escritos a mano\n",
    "\n",
    "De acuerdo a su descripción en la documentación de Scikit-learn: \n",
    "\n",
    "Classes - 10\n",
    "\n",
    "Samples per class  - 180\n",
    "\n",
    "Samples total - 1797\n",
    "\n",
    "Dimensionality - 64\n",
    "\n",
    "Features - integers 0 a 16\n",
    "\n",
    "### Cuenta con 7 atributos: \n",
    "\n",
    "#### 1. data: (1797, 64)\n",
    "Es una matriz de 1797 elementos, cada uno es un vector de tamaño 64\n",
    "\n",
    "#### 2. target: (1797,)\n",
    "Es un vector que contiene las etiquetas asociadas a cada vector o matriz 8x8\n",
    "\n",
    "#### 3. frame: (,)\n",
    "No presenta información, ni etiquetas, ni dimensión\n",
    "\n",
    "#### 4. feature_names: (64,)\n",
    "Es una arreglo de etiquetas asociadas a cada elemento de la matriz 8x8. Cada elemento corresponde a la asociación pixel_i_j, donde i = 0 ... 7, j = 0 ... 7. Haciendo un recorrido por filas. \n",
    "\n",
    "#### 5. target_names: (8,)\n",
    "Es una arreglo de etiquetas asociadas a las clases únicas [0, 1 ... 9]\n",
    "\n",
    "#### 6. images: (1797, 8, 8)\n",
    "Es una matriz de tercer orden, donde cada elemento está asociada a una matriz 2D de 8x8"
   ]
  },
  {
   "attachments": {},
   "cell_type": "markdown",
   "metadata": {},
   "source": [
    "# 2.  Cuantas imagens contiene el conjunto de datos?\n",
    "\n",
    "1797"
   ]
  },
  {
   "cell_type": "code",
   "execution_count": 38,
   "metadata": {},
   "outputs": [
    {
     "data": {
      "text/plain": [
       "array([[ 0.,  0.,  5., ...,  0.,  0.,  0.],\n",
       "       [ 0.,  0.,  0., ..., 10.,  0.,  0.],\n",
       "       [ 0.,  0.,  0., ..., 16.,  9.,  0.],\n",
       "       ...,\n",
       "       [ 0.,  0.,  1., ...,  6.,  0.,  0.],\n",
       "       [ 0.,  0.,  2., ..., 12.,  0.,  0.],\n",
       "       [ 0.,  0., 10., ..., 12.,  1.,  0.]])"
      ]
     },
     "execution_count": 38,
     "metadata": {},
     "output_type": "execute_result"
    }
   ],
   "source": [
    "digits['data']"
   ]
  },
  {
   "cell_type": "code",
   "execution_count": 39,
   "metadata": {},
   "outputs": [
    {
     "data": {
      "text/plain": [
       "(1797, 64)"
      ]
     },
     "execution_count": 39,
     "metadata": {},
     "output_type": "execute_result"
    }
   ],
   "source": [
    "digits['data'].shape"
   ]
  },
  {
   "attachments": {},
   "cell_type": "markdown",
   "metadata": {},
   "source": [
    "# 3.  Cual es la dimensión de cada una de las imagenes que contiene el conjuntos de datos?\n",
    "\n",
    "2D, matriz 2D de 8x8"
   ]
  },
  {
   "cell_type": "code",
   "execution_count": 40,
   "metadata": {},
   "outputs": [
    {
     "data": {
      "text/plain": [
       "(1797, 8, 8)"
      ]
     },
     "execution_count": 40,
     "metadata": {},
     "output_type": "execute_result"
    }
   ],
   "source": [
    "digits['images'].shape"
   ]
  },
  {
   "cell_type": "code",
   "execution_count": 41,
   "metadata": {},
   "outputs": [
    {
     "data": {
      "image/png": "[encoded data removed]",
      "text/plain": [
       "<Figure size 432x288 with 1 Axes>"
      ]
     },
     "metadata": {
      "needs_background": "light"
     },
     "output_type": "display_data"
    }
   ],
   "source": [
    "num_img  = 8\n",
    "l=8\n",
    "pixels = digits['images'][num_img].reshape((l, l))\n",
    "label = digits['target'][num_img]\n",
    "\n",
    "plt.title('Real: {label}'.format(label=label))\n",
    "plt.axis('off')\n",
    "plt.imshow(pixels, cmap='gray')\n",
    "plt.show()"
   ]
  },
  {
   "attachments": {},
   "cell_type": "markdown",
   "metadata": {},
   "source": [
    "# 4.  Explore y describa para qué se usa el método reshape en el siguiente bloque de código?\n",
    "\n",
    "la primera línea calcula el número de imagenes en digits que es 1797, luego reshape se usa para modificar la dimensión del objeto. Al usar -1, se infiere la dimensión de la matrix asociada 2D 8x8, pero lo que hace es tomarlo como un TODO (8x8) = 64, se hace un reshape a (1797, 64)"
   ]
  },
  {
   "cell_type": "code",
   "execution_count": 45,
   "metadata": {},
   "outputs": [
    {
     "data": {
      "text/plain": [
       "(1797, 8, 8)"
      ]
     },
     "execution_count": 45,
     "metadata": {},
     "output_type": "execute_result"
    }
   ],
   "source": [
    "digits.images.shape"
   ]
  },
  {
   "cell_type": "code",
   "execution_count": 42,
   "metadata": {},
   "outputs": [],
   "source": [
    "n_samples = len(digits.images)\n",
    "data = digits.images.reshape((n_samples, -1))"
   ]
  },
  {
   "cell_type": "code",
   "execution_count": 44,
   "metadata": {},
   "outputs": [
    {
     "data": {
      "text/plain": [
       "(1797, 64)"
      ]
     },
     "execution_count": 44,
     "metadata": {},
     "output_type": "execute_result"
    }
   ],
   "source": [
    "data.shape"
   ]
  },
  {
   "attachments": {},
   "cell_type": "markdown",
   "metadata": {},
   "source": [
    "# 5. Cual es la dimensión del vector de caracteristicas y de la variable objetivo?\n",
    "\n",
    "X = (1797, 64) es decir una matriz 2D\n",
    "\n",
    "y = (1797,) es un vector con las etiquetas asociadas a las imágenes"
   ]
  },
  {
   "cell_type": "code",
   "execution_count": 46,
   "metadata": {},
   "outputs": [
    {
     "name": "stdout",
     "output_type": "stream",
     "text": [
      "(1797, 64)\n",
      "(1797,)\n"
     ]
    }
   ],
   "source": [
    "# sea X el vector de caracteristicas\n",
    "X = data\n",
    "print(X.shape)\n",
    "\n",
    "# sea \"y\" la variable objetivo\n",
    "y = digits.target\n",
    "print(y.shape)"
   ]
  },
  {
   "attachments": {},
   "cell_type": "markdown",
   "metadata": {},
   "source": [
    "# 6. Explore y explique es para que usa la función train_test_split, pruebe con parametros para test_size iguales a: 0.5, 0.3 y 0.2 y explique la función del paramétro en la siguiente línea de código."
   ]
  },
  {
   "cell_type": "code",
   "execution_count": null,
   "metadata": {},
   "outputs": [],
   "source": []
  }
 ],
 "metadata": {
  "kernelspec": {
   "display_name": "venv",
   "language": "python",
   "name": "python3"
  },
  "language_info": {
   "codemirror_mode": {
    "name": "ipython",
    "version": 3
   },
   "file_extension": ".py",
   "mimetype": "text/x-python",
   "name": "python",
   "nbconvert_exporter": "python",
   "pygments_lexer": "ipython3",
   "version": "3.6.9"
  },
  "orig_nbformat": 4
 },
 "nbformat": 4,
 "nbformat_minor": 2
}
